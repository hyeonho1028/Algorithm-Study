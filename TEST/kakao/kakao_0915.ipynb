{
 "cells": [
  {
   "cell_type": "code",
   "execution_count": null,
   "metadata": {},
   "outputs": [],
   "source": [
    "# 카카오톡 오픈채팅방에서는 친구가 아닌 사람들과 대화를 할 수 있는데, 본래 닉네임이 아닌 가상의 닉네임을 사용하여 채팅방에 들어갈 수 있다.\n",
    "# 신입사원인 김크루는 카카오톡 오픈 채팅방을 개설한 사람을 위해, 다양한 사람들이 들어오고, 나가는 것을 지켜볼 수 있는 관리자창을 만들기로 했다. \n",
    "# 채팅방에 누군가 들어오면 다음 메시지가 출력된다.\n",
    "# [닉네임]님이 들어왔습니다.\n",
    "\n",
    "# 채팅방에서 누군가 나가면 다음 메시지가 출력된다.\n",
    "# [닉네임]님이 나갔습니다.\n",
    "# 채팅방에서 닉네임을 변경하는 방법은 다음과 같이 두 가지이다.\n",
    "\n",
    "# 채팅방을 나간 후, 새로운 닉네임으로 다시 들어간다.\n",
    "# 채팅방에서 닉네임을 변경한다.\n",
    "# 닉네임을 변경할 때는 기존에 채팅방에 출력되어 있던 메시지의 닉네임도 전부 변경된다.\n",
    "\n",
    "# 예를 들어, 채팅방에 Muzi와 Prodo라는 닉네임을 사용하는 사람이 순서대로 들어오면 채팅방에는 다음과 같이 메시지가 출력된다.\n",
    "\n",
    "# Muzi님이 들어왔습니다.\n",
    "# Prodo님이 들어왔습니다.\n",
    "\n",
    "# 채팅방에 있던 사람이 나가면 채팅방에는 다음과 같이 메시지가 남는다.\n",
    "\n",
    "# Muzi님이 들어왔습니다.\n",
    "# Prodo님이 들어왔습니다.\n",
    "# Muzi님이 나갔습니다.\n",
    "\n",
    "# Muzi가 나간후 다시 들어올 때, Prodo 라는 닉네임으로 들어올 경우 기존에 채팅방에 남아있던 Muzi도 Prodo로 다음과 같이 변경된다.\n",
    "\n",
    "# Prodo님이 들어왔습니다.\n",
    "# Prodo님이 들어왔습니다.\n",
    "# Prodo님이 나갔습니다.\n",
    "# Prodo님이 들어왔습니다.\n",
    "\n",
    "# 채팅방은 중복 닉네임을 허용하기 때문에, 현재 채팅방에는 Prodo라는 닉네임을 사용하는 사람이 두 명이 있다. 이제, 채팅방에 두 번째로 들어왔던 Prodo가 Ryan으로 \n",
    "# 닉네임을 변경하면 채팅방 메시지는 다음과 같이 변경된다.\n",
    "\n",
    "# Prodo님이 들어왔습니다.\n",
    "# Ryan님이 들어왔습니다.\n",
    "# Prodo님이 나갔습니다.\n",
    "# Prodo님이 들어왔습니다.\n",
    "\n",
    "# 채팅방에 들어오고 나가거나, 닉네임을 변경한 기록이 담긴 문자열 배열 record가 매개변수로 주어질 때, 모든 기록이 처리된 후, 최종적으로 방을 개설한 사람이 \n",
    "# 보게 되는 메시지를 문자열 배열 형태로 return 하도록 solution 함수를 완성하라.\n",
    "\n",
    "# 제한사항\n",
    "# record는 다음과 같은 문자열이 담긴 배열이며, 길이는 1 이상 100,000 이하이다.\n",
    "# 다음은 record에 담긴 문자열에 대한 설명이다.\n",
    "# 모든 유저는 [유저 아이디]로 구분한다.\n",
    "# [유저 아이디] 사용자가 [닉네임]으로 채팅방에 입장 - Enter [유저 아이디] [닉네임] (ex. Enter uid1234 Muzi)\n",
    "# [유저 아이디] 사용자가 채팅방에서 퇴장 - Leave [유저 아이디] (ex. Leave uid1234)\n",
    "# [유저 아이디] 사용자가 닉네임을 [닉네임]으로 변경 - Change [유저 아이디] [닉네임] (ex. Change uid1234 Muzi)\n",
    "# 첫 단어는 Enter, Leave, Change 중 하나이다.\n",
    "# 각 단어는 공백으로 구분되어 있으며, 알파벳 대문자, 소문자, 숫자로만 이루어져있다.\n",
    "# 유저 아이디와 닉네임은 알파벳 대문자, 소문자를 구별한다.\n",
    "# 유저 아이디와 닉네임의 길이는 1 이상 10 이하이다.\n",
    "# 채팅방에서 나간 유저가 닉네임을 변경하는 등 잘못 된 입력은 주어지지 않는다."
   ]
  },
  {
   "cell_type": "code",
   "execution_count": 361,
   "metadata": {},
   "outputs": [
    {
     "data": {
      "text/plain": [
       "False"
      ]
     },
     "execution_count": 361,
     "metadata": {},
     "output_type": "execute_result"
    }
   ],
   "source": [
    "not 'a123'.isalnum()"
   ]
  },
  {
   "cell_type": "code",
   "execution_count": 362,
   "metadata": {},
   "outputs": [],
   "source": [
    "def solution(record):\n",
    "    answer = []\n",
    "    \n",
    "    if len(record) > 100000 :\n",
    "        record = record[0:100000]\n",
    "    elif len(record) < 1:\n",
    "        record = []\n",
    "        \n",
    "    for j in record:\n",
    "\n",
    "        if j.split(' ')[0] != 'Enter' and j.split(' ')[0] != 'Leave' and j.split(' ')[0] != 'Change':\n",
    "            record.remove(j)\n",
    "\n",
    "        else:\n",
    "            if j.split(' ')[0] == 'Enter':\n",
    "                if len(j.split(' ')) != 3:\n",
    "                    record.remove(j)\n",
    "                elif len(j.split(' ')[1]) > 10 or len(j.split(' ')[1]) < 1:\n",
    "                    record.remove(j)\n",
    "                elif len(j.split(' ')[2]) > 10 or len(j.split(' ')[2]) < 1:\n",
    "                    record.remove(j)\n",
    "                elif not j.split(' ')[1].isalnum():\n",
    "                    record.remove(j)\n",
    "                answer.append(j.split(' ')[2]+'님이 들어왔습니다.')\n",
    "                for k,i in enumerate(answer):\n",
    "                    if record[k].split(' ')[0] == 'Enter' and record[k].split(' ')[1] == j.split(' ')[1]:\n",
    "                        answer[k] = answer[k].replace(record[k].split(' ')[2], j.split(' ')[2])\n",
    "                    elif record[k].split(' ')[0] == 'Leave' and record[k].split(' ')[1] == j.split(' ')[1]:\n",
    "                        answer[k] = answer[k].replace(answer[k].replace('님이 나갔습니다.',''),j.split(' ')[2])\n",
    "\n",
    "            elif j.split(' ')[0] == 'Leave':\n",
    "                if len(j.split(' ')) != 2:\n",
    "                    record.remove(j)\n",
    "                elif len(j.split(' ')[1]) > 10 or len(j.split(' ')[1]) < 1:\n",
    "                    record.remove(j)\n",
    "                    \n",
    "                for i in record:\n",
    "                    if i.split(' ')[1] == j.split(' ')[1]:\n",
    "                        answer.append(i.split(' ')[2]+'님이 나갔습니다.')\n",
    "                        break\n",
    "\n",
    "            elif j.split(' ')[0] == 'Change':\n",
    "                for k,i in enumerate(record):\n",
    "                    if i.split(' ')[1] == j.split(' ')[1]:\n",
    "                        record[k] = (i.replace(i.split(' ')[2], j.split(' ')[2]))\n",
    "                        answer[k] = answer[k].replace(i.split(' ')[2], j.split(' ')[2])\n",
    "                        break\n",
    "    return record, answer"
   ]
  },
  {
   "cell_type": "code",
   "execution_count": 363,
   "metadata": {},
   "outputs": [
    {
     "data": {
      "text/plain": [
       "(['Enter uid1234 Muzi',\n",
       "  'Enter uid4567 Ryan',\n",
       "  'Leave uid1234',\n",
       "  'Enter uid1234 Prodo',\n",
       "  'Change uid4567 Ryan'],\n",
       " ['Prodo님이 들어왔습니다.', 'Ryan님이 들어왔습니다.', 'Prodo님이 나갔습니다.', 'Prodo님이 들어왔습니다.'])"
      ]
     },
     "execution_count": 363,
     "metadata": {},
     "output_type": "execute_result"
    }
   ],
   "source": [
    "solution(['Enter uid1234 Muzi','Enter uid4567 Prodo','Leave uid1234','Enter uid1234 Prodo','Change uid4567 Ryan'])"
   ]
  },
  {
   "cell_type": "code",
   "execution_count": 138,
   "metadata": {},
   "outputs": [
    {
     "name": "stdout",
     "output_type": "stream",
     "text": [
      "['Enter uid1234 Muzi', 'Enter uid4567 Ryan', 'Leave uid1234', 'Enter uid1234 Prodo', 'Change uid4567 Ryan']\n",
      "['Muzi님이 들어왔습니다.', 'Ryan님이 들어왔습니다.', 'Muzi님이 나갔습니다.', 'Prodo님이 들어왔습니다.']\n"
     ]
    }
   ],
   "source": [
    "record = ['Enter uid1234 Muzi','Enter uid4567 Prodo','Leave uid1234','Enter uid1234 Prodo','Change uid4567 Ryan']\n",
    "answer = []\n",
    "for j in record:\n",
    "        if j.split(' ')[0] == 'Enter':\n",
    "            answer.append(j.split(' ')[2]+'님이 들어왔습니다.')\n",
    "        elif j.split(' ')[0] == 'Leave':\n",
    "            for i in record:\n",
    "                if i.split(' ')[1] == j.split(' ')[1]:\n",
    "                    answer.append(i.split(' ')[2]+'님이 나갔습니다.')\n",
    "                    break\n",
    "        elif j.split(' ')[0] == 'Change':\n",
    "            for k,i in enumerate(record):\n",
    "                if i.split(' ')[1] == j.split(' ')[1]:\n",
    "                    record[k] = (i.replace(i.split(' ')[2], j.split(' ')[2]))\n",
    "                    answer[k] = (answer[k].replace(i.split(' ')[2], j.split(' ')[2]))\n",
    "                    break\n",
    "       \n",
    "print(record)\n",
    "print(answer)"
   ]
  },
  {
   "cell_type": "code",
   "execution_count": 127,
   "metadata": {},
   "outputs": [],
   "source": [
    "a = '123a4'"
   ]
  },
  {
   "cell_type": "code",
   "execution_count": 128,
   "metadata": {},
   "outputs": [
    {
     "data": {
      "text/plain": [
       "'1234a4'"
      ]
     },
     "execution_count": 128,
     "metadata": {},
     "output_type": "execute_result"
    }
   ],
   "source": [
    "a.replace('3','34')"
   ]
  },
  {
   "cell_type": "code",
   "execution_count": 112,
   "metadata": {},
   "outputs": [
    {
     "data": {
      "text/plain": [
       "(['Enter uid1234 Muzi',\n",
       "  'Enter uid4567 Prodo',\n",
       "  'Leave uid1234',\n",
       "  'Enter uid1234 Prodo',\n",
       "  'Change uid4567 Ryan'],\n",
       " ['Muzi님이 들어왔습니다.', 'Prodo님이 들어왔습니다.', 'Muzi님이 나갔습니다.', 'Prodo님이 들어왔습니다.'])"
      ]
     },
     "execution_count": 112,
     "metadata": {},
     "output_type": "execute_result"
    }
   ],
   "source": [
    "solution(['Enter uid1234 Muzi','Enter uid4567 Prodo','Leave uid1234','Enter uid1234 Prodo','Change uid4567 Ryan'])"
   ]
  },
  {
   "cell_type": "code",
   "execution_count": 81,
   "metadata": {},
   "outputs": [],
   "source": [
    "answer = []\n",
    "# answer[0] = 1\n",
    "a = 1"
   ]
  },
  {
   "cell_type": "code",
   "execution_count": 82,
   "metadata": {},
   "outputs": [],
   "source": [
    "answer.append(str(a) + '님이 들어왔습니다.')"
   ]
  },
  {
   "cell_type": "code",
   "execution_count": 83,
   "metadata": {},
   "outputs": [
    {
     "data": {
      "text/plain": [
       "['1님이 들어왔습니다.']"
      ]
     },
     "execution_count": 83,
     "metadata": {},
     "output_type": "execute_result"
    }
   ],
   "source": [
    "answer"
   ]
  },
  {
   "cell_type": "code",
   "execution_count": 65,
   "metadata": {},
   "outputs": [
    {
     "name": "stdout",
     "output_type": "stream",
     "text": [
      "Prodo님이 들어왔습니다.\n",
      "Ryan님이 들어왔습니다.\n",
      "Prodo님이 나갔습니다.\n",
      "Prodo님이 들어왔습니다.\n"
     ]
    }
   ],
   "source": [
    "for i in ['Prodo님이 들어왔습니다.', 'Ryan님이 들어왔습니다.', 'Prodo님이 나갔습니다.', 'Prodo님이 들어왔습니다.']:\n",
    "    print(i)"
   ]
  },
  {
   "cell_type": "code",
   "execution_count": 60,
   "metadata": {},
   "outputs": [
    {
     "data": {
      "text/plain": [
       "'Muzi님이 나갔습니다.'"
      ]
     },
     "execution_count": 60,
     "metadata": {},
     "output_type": "execute_result"
    }
   ],
   "source": [
    "solution('Leave uid1234 Muzi')"
   ]
  },
  {
   "cell_type": "code",
   "execution_count": 61,
   "metadata": {},
   "outputs": [],
   "source": [
    "solution('Change uid1234 Muzi')"
   ]
  },
  {
   "cell_type": "code",
   "execution_count": null,
   "metadata": {},
   "outputs": [],
   "source": []
  },
  {
   "cell_type": "code",
   "execution_count": null,
   "metadata": {},
   "outputs": [],
   "source": []
  },
  {
   "cell_type": "code",
   "execution_count": 35,
   "metadata": {},
   "outputs": [
    {
     "name": "stdout",
     "output_type": "stream",
     "text": [
      "Muzi님이 들어왔습니다.\n"
     ]
    }
   ],
   "source": [
    "print('{}님이 들어왔습니다.'.format(record[0].split(' ')[2]))"
   ]
  },
  {
   "cell_type": "code",
   "execution_count": 7,
   "metadata": {},
   "outputs": [
    {
     "data": {
      "text/plain": [
       "'무지'"
      ]
     },
     "execution_count": 7,
     "metadata": {},
     "output_type": "execute_result"
    }
   ],
   "source": []
  },
  {
   "cell_type": "code",
   "execution_count": 43,
   "metadata": {},
   "outputs": [
    {
     "data": {
      "text/plain": [
       "['Enter uid1234 Muzi']"
      ]
     },
     "execution_count": 43,
     "metadata": {},
     "output_type": "execute_result"
    }
   ],
   "source": [
    "record"
   ]
  },
  {
   "cell_type": "code",
   "execution_count": 47,
   "metadata": {},
   "outputs": [
    {
     "data": {
      "text/plain": [
       "'Enter'"
      ]
     },
     "execution_count": 47,
     "metadata": {},
     "output_type": "execute_result"
    }
   ],
   "source": [
    "record[0].split(' ')[0]"
   ]
  },
  {
   "cell_type": "code",
   "execution_count": null,
   "metadata": {},
   "outputs": [],
   "source": [
    "[Enter uid1234 Muzi, Enter uid4567 Prodo,Leave uid1234,Enter uid1234 Prodo,Change uid4567 Ryan]"
   ]
  },
  {
   "cell_type": "code",
   "execution_count": null,
   "metadata": {},
   "outputs": [],
   "source": [
    "[Prodo님이 들어왔습니다., Ryan님이 들어왔습니다., Prodo님이 나갔습니다., Prodo님이 들어왔습니다.]"
   ]
  },
  {
   "cell_type": "code",
   "execution_count": null,
   "metadata": {},
   "outputs": [],
   "source": []
  },
  {
   "cell_type": "code",
   "execution_count": null,
   "metadata": {},
   "outputs": [],
   "source": []
  },
  {
   "cell_type": "code",
   "execution_count": null,
   "metadata": {},
   "outputs": [],
   "source": []
  },
  {
   "cell_type": "code",
   "execution_count": 366,
   "metadata": {},
   "outputs": [
    {
     "ename": "NameError",
     "evalue": "name 'stages' is not defined",
     "output_type": "error",
     "traceback": [
      "\u001b[1;31m---------------------------------------------------------------------------\u001b[0m",
      "\u001b[1;31mNameError\u001b[0m                                 Traceback (most recent call last)",
      "\u001b[1;32m<ipython-input-366-9181dd1ae93a>\u001b[0m in \u001b[0;36m<module>\u001b[1;34m()\u001b[0m\n\u001b[1;32m----> 1\u001b[1;33m \u001b[0mstages\u001b[0m\u001b[1;33m.\u001b[0m\u001b[0mcount\u001b[0m\u001b[1;33m(\u001b[0m\u001b[1;36m1\u001b[0m\u001b[1;33m)\u001b[0m\u001b[1;33m\u001b[0m\u001b[0m\n\u001b[0m",
      "\u001b[1;31mNameError\u001b[0m: name 'stages' is not defined"
     ]
    }
   ],
   "source": [
    "stages.count(1)"
   ]
  },
  {
   "cell_type": "code",
   "execution_count": 367,
   "metadata": {},
   "outputs": [],
   "source": [
    "a=[1,2,1,1,1,1]"
   ]
  },
  {
   "cell_type": "code",
   "execution_count": 368,
   "metadata": {},
   "outputs": [
    {
     "data": {
      "text/plain": [
       "6"
      ]
     },
     "execution_count": 368,
     "metadata": {},
     "output_type": "execute_result"
    }
   ],
   "source": [
    "len(a)"
   ]
  },
  {
   "cell_type": "code",
   "execution_count": 395,
   "metadata": {},
   "outputs": [],
   "source": []
  },
  {
   "cell_type": "code",
   "execution_count": 396,
   "metadata": {},
   "outputs": [
    {
     "data": {
      "text/plain": [
       "[0.125, 0.42857142857142855, 0.5, 0.5, 0.0]"
      ]
     },
     "execution_count": 396,
     "metadata": {},
     "output_type": "execute_result"
    }
   ],
   "source": [
    "b"
   ]
  },
  {
   "cell_type": "code",
   "execution_count": 385,
   "metadata": {},
   "outputs": [],
   "source": [
    "a.sort(reverse=True)"
   ]
  },
  {
   "cell_type": "code",
   "execution_count": 394,
   "metadata": {},
   "outputs": [
    {
     "data": {
      "text/plain": [
       "[0.5, 0.5, 0.42857142857142855, 0.125, 0.0]"
      ]
     },
     "execution_count": 394,
     "metadata": {},
     "output_type": "execute_result"
    }
   ],
   "source": [
    "a"
   ]
  },
  {
   "cell_type": "code",
   "execution_count": 405,
   "metadata": {},
   "outputs": [
    {
     "name": "stdout",
     "output_type": "stream",
     "text": [
      "3\n",
      "2\n",
      "0\n",
      "1\n",
      "0\n",
      "1\n",
      "4\n"
     ]
    }
   ],
   "source": [
    "for i in b:\n",
    "    for k,j in enumerate(a):\n",
    "        if i == j:\n",
    "            print(k)"
   ]
  },
  {
   "cell_type": "code",
   "execution_count": 410,
   "metadata": {},
   "outputs": [
    {
     "data": {
      "text/plain": [
       "2"
      ]
     },
     "execution_count": 410,
     "metadata": {},
     "output_type": "execute_result"
    }
   ],
   "source": [
    "b.index(max(b))"
   ]
  },
  {
   "cell_type": "code",
   "execution_count": 422,
   "metadata": {},
   "outputs": [
    {
     "name": "stdout",
     "output_type": "stream",
     "text": [
      "3\n",
      "4\n",
      "2\n",
      "1\n",
      "5\n"
     ]
    }
   ],
   "source": [
    "for i in range(len(b)):\n",
    "    print(b.index(max(b))+1)\n",
    "    b[b.index(max(b))] = -1"
   ]
  },
  {
   "cell_type": "code",
   "execution_count": 414,
   "metadata": {},
   "outputs": [
    {
     "data": {
      "text/plain": [
       "5"
      ]
     },
     "execution_count": 414,
     "metadata": {},
     "output_type": "execute_result"
    }
   ],
   "source": [
    "len(b)"
   ]
  },
  {
   "cell_type": "code",
   "execution_count": 423,
   "metadata": {},
   "outputs": [],
   "source": [
    "b=[0.125,0.42857142857142855,0.5,0.5,0.0]"
   ]
  },
  {
   "cell_type": "code",
   "execution_count": 426,
   "metadata": {},
   "outputs": [
    {
     "data": {
      "text/plain": [
       "[0.125, 0.5, 0.5, 0.0]"
      ]
     },
     "execution_count": 426,
     "metadata": {},
     "output_type": "execute_result"
    }
   ],
   "source": [
    "b"
   ]
  },
  {
   "cell_type": "code",
   "execution_count": 425,
   "metadata": {},
   "outputs": [],
   "source": [
    "del b[1]"
   ]
  },
  {
   "cell_type": "code",
   "execution_count": 427,
   "metadata": {},
   "outputs": [],
   "source": [
    "def solution(relation):\n",
    "    answer = 0\n",
    "    \n",
    "    a=[]\n",
    "    b=0\n",
    "    c=len(relation[0])\n",
    "      \n",
    "    for i in range(c):\n",
    "        for j in relation:\n",
    "            a.append(j[i])\n",
    "        if (len(set(a)) == len(relation)) == True:\n",
    "            b += 1\n",
    "            a = []\n",
    "            for k in relation:\n",
    "                del k[i]\n",
    "    \n",
    "    answer = b\n",
    "    \n",
    "    return answer"
   ]
  },
  {
   "cell_type": "code",
   "execution_count": 428,
   "metadata": {},
   "outputs": [
    {
     "ename": "TypeError",
     "evalue": "'int' object is not iterable",
     "output_type": "error",
     "traceback": [
      "\u001b[1;31m---------------------------------------------------------------------------\u001b[0m",
      "\u001b[1;31mTypeError\u001b[0m                                 Traceback (most recent call last)",
      "\u001b[1;32m<ipython-input-428-234edd2511d0>\u001b[0m in \u001b[0;36m<module>\u001b[1;34m()\u001b[0m\n\u001b[1;32m----> 1\u001b[1;33m \u001b[0msolution\u001b[0m\u001b[1;33m(\u001b[0m\u001b[1;33m[\u001b[0m\u001b[1;33m[\u001b[0m\u001b[1;34m\"100\"\u001b[0m\u001b[1;33m,\u001b[0m \u001b[1;34m\"ryan\"\u001b[0m\u001b[1;33m,\u001b[0m \u001b[1;34m\"music\"\u001b[0m\u001b[1;33m,\u001b[0m \u001b[1;34m\"2\"\u001b[0m\u001b[1;33m]\u001b[0m\u001b[1;33m,\u001b[0m \u001b[1;33m[\u001b[0m\u001b[1;34m\"200\"\u001b[0m\u001b[1;33m,\u001b[0m \u001b[1;34m\"apeach\"\u001b[0m\u001b[1;33m,\u001b[0m \u001b[1;34m\"math\"\u001b[0m\u001b[1;33m,\u001b[0m \u001b[1;34m\"2\"\u001b[0m\u001b[1;33m]\u001b[0m\u001b[1;33m,\u001b[0m \u001b[1;33m[\u001b[0m\u001b[1;34m\"300\"\u001b[0m\u001b[1;33m,\u001b[0m \u001b[1;34m\"tube\"\u001b[0m\u001b[1;33m,\u001b[0m \u001b[1;34m\"computer\"\u001b[0m\u001b[1;33m,\u001b[0m \u001b[1;34m\"3\"\u001b[0m\u001b[1;33m]\u001b[0m\u001b[1;33m,\u001b[0m \u001b[1;33m[\u001b[0m\u001b[1;34m\"400\"\u001b[0m\u001b[1;33m,\u001b[0m \u001b[1;34m\"con\"\u001b[0m\u001b[1;33m,\u001b[0m \u001b[1;34m\"computer\"\u001b[0m\u001b[1;33m,\u001b[0m \u001b[1;34m\"4\"\u001b[0m\u001b[1;33m]\u001b[0m\u001b[1;33m,\u001b[0m \u001b[1;33m[\u001b[0m\u001b[1;34m\"500\"\u001b[0m\u001b[1;33m,\u001b[0m \u001b[1;34m\"muzi\"\u001b[0m\u001b[1;33m,\u001b[0m \u001b[1;34m\"music\"\u001b[0m\u001b[1;33m,\u001b[0m \u001b[1;34m\"3\"\u001b[0m\u001b[1;33m]\u001b[0m\u001b[1;33m,\u001b[0m \u001b[1;33m[\u001b[0m\u001b[1;34m\"600\"\u001b[0m\u001b[1;33m,\u001b[0m \u001b[1;34m\"apeach\"\u001b[0m\u001b[1;33m,\u001b[0m \u001b[1;34m\"music\"\u001b[0m\u001b[1;33m,\u001b[0m \u001b[1;34m\"2\"\u001b[0m\u001b[1;33m]\u001b[0m\u001b[1;33m]\u001b[0m\u001b[1;33m)\u001b[0m\u001b[1;33m\u001b[0m\u001b[0m\n\u001b[0m",
      "\u001b[1;32m<ipython-input-427-988cdd5d9311>\u001b[0m in \u001b[0;36msolution\u001b[1;34m(relation)\u001b[0m\n\u001b[0;32m      6\u001b[0m     \u001b[0mc\u001b[0m\u001b[1;33m=\u001b[0m\u001b[0mlen\u001b[0m\u001b[1;33m(\u001b[0m\u001b[0mrelation\u001b[0m\u001b[1;33m[\u001b[0m\u001b[1;36m0\u001b[0m\u001b[1;33m]\u001b[0m\u001b[1;33m)\u001b[0m\u001b[1;33m\u001b[0m\u001b[0m\n\u001b[0;32m      7\u001b[0m \u001b[1;33m\u001b[0m\u001b[0m\n\u001b[1;32m----> 8\u001b[1;33m     \u001b[1;32mfor\u001b[0m \u001b[0mi\u001b[0m \u001b[1;32min\u001b[0m \u001b[0mc\u001b[0m\u001b[1;33m:\u001b[0m\u001b[1;33m\u001b[0m\u001b[0m\n\u001b[0m\u001b[0;32m      9\u001b[0m         \u001b[1;32mfor\u001b[0m \u001b[0mj\u001b[0m \u001b[1;32min\u001b[0m \u001b[0mrelation\u001b[0m\u001b[1;33m:\u001b[0m\u001b[1;33m\u001b[0m\u001b[0m\n\u001b[0;32m     10\u001b[0m             \u001b[0ma\u001b[0m\u001b[1;33m.\u001b[0m\u001b[0mappend\u001b[0m\u001b[1;33m(\u001b[0m\u001b[0mj\u001b[0m\u001b[1;33m[\u001b[0m\u001b[0mi\u001b[0m\u001b[1;33m]\u001b[0m\u001b[1;33m)\u001b[0m\u001b[1;33m\u001b[0m\u001b[0m\n",
      "\u001b[1;31mTypeError\u001b[0m: 'int' object is not iterable"
     ]
    }
   ],
   "source": [
    "solution([[\"100\", \"ryan\", \"music\", \"2\"], [\"200\", \"apeach\", \"math\", \"2\"], [\"300\", \"tube\", \"computer\", \"3\"], [\"400\", \"con\", \"computer\", \"4\"], [\"500\", \"muzi\", \"music\", \"3\"], [\"600\", \"apeach\", \"music\", \"2\"]])"
   ]
  },
  {
   "cell_type": "code",
   "execution_count": 438,
   "metadata": {},
   "outputs": [],
   "source": [
    "c=[[\"100\", \"ryan\", \"music\", \"2\"], [\"200\", \"apeach\", \"math\", \"2\"], [\"300\", \"tube\", \"computer\", \"3\"], [\"400\", \"con\", \"computer\", \"4\"], [\"500\", \"muzi\", \"music\", \"3\"], [\"600\", \"apeach\", \"music\", \"2\"]]"
   ]
  },
  {
   "cell_type": "code",
   "execution_count": 450,
   "metadata": {},
   "outputs": [
    {
     "ename": "TypeError",
     "evalue": "unhashable type: 'list'",
     "output_type": "error",
     "traceback": [
      "\u001b[1;31m---------------------------------------------------------------------------\u001b[0m",
      "\u001b[1;31mTypeError\u001b[0m                                 Traceback (most recent call last)",
      "\u001b[1;32m<ipython-input-450-736ab4a2d33a>\u001b[0m in \u001b[0;36m<module>\u001b[1;34m()\u001b[0m\n\u001b[1;32m----> 1\u001b[1;33m \u001b[0mset\u001b[0m\u001b[1;33m(\u001b[0m\u001b[1;33m[\u001b[0m\u001b[1;33m[\u001b[0m\u001b[1;36m1\u001b[0m\u001b[1;33m,\u001b[0m\u001b[1;36m1\u001b[0m\u001b[1;33m,\u001b[0m\u001b[1;36m1\u001b[0m\u001b[1;33m,\u001b[0m\u001b[1;36m1\u001b[0m\u001b[1;33m,\u001b[0m\u001b[1;36m1\u001b[0m\u001b[1;33m]\u001b[0m\u001b[1;33m,\u001b[0m\u001b[1;33m[\u001b[0m\u001b[1;36m2\u001b[0m\u001b[1;33m,\u001b[0m\u001b[1;36m2\u001b[0m\u001b[1;33m,\u001b[0m\u001b[1;36m2\u001b[0m\u001b[1;33m,\u001b[0m\u001b[1;36m2\u001b[0m\u001b[1;33m,\u001b[0m\u001b[1;36m2\u001b[0m\u001b[1;33m]\u001b[0m\u001b[1;33m]\u001b[0m\u001b[1;33m)\u001b[0m\u001b[1;33m\u001b[0m\u001b[0m\n\u001b[0m",
      "\u001b[1;31mTypeError\u001b[0m: unhashable type: 'list'"
     ]
    }
   ],
   "source": [
    "set([[1,1,1,1,1],[2,2,2,2,2]])"
   ]
  },
  {
   "cell_type": "code",
   "execution_count": 457,
   "metadata": {},
   "outputs": [],
   "source": [
    "a = [['1111','1111'],['2222','2222']]"
   ]
  },
  {
   "cell_type": "code",
   "execution_count": 459,
   "metadata": {},
   "outputs": [],
   "source": [
    "c[0] = a[0][1] + a[1][1]"
   ]
  },
  {
   "cell_type": "code",
   "execution_count": 460,
   "metadata": {},
   "outputs": [
    {
     "data": {
      "text/plain": [
       "['11112222',\n",
       " ['200', 'apeach', 'math', '2'],\n",
       " ['300', 'tube', 'computer', '3'],\n",
       " ['400', 'con', 'computer', '4'],\n",
       " ['500', 'muzi', 'music', '3'],\n",
       " ['600', 'apeach', 'music', '2']]"
      ]
     },
     "execution_count": 460,
     "metadata": {},
     "output_type": "execute_result"
    }
   ],
   "source": [
    "c"
   ]
  },
  {
   "cell_type": "code",
   "execution_count": null,
   "metadata": {},
   "outputs": [],
   "source": []
  },
  {
   "cell_type": "code",
   "execution_count": null,
   "metadata": {},
   "outputs": [],
   "source": []
  },
  {
   "cell_type": "code",
   "execution_count": null,
   "metadata": {},
   "outputs": [],
   "source": []
  },
  {
   "cell_type": "code",
   "execution_count": null,
   "metadata": {},
   "outputs": [],
   "source": []
  }
 ],
 "metadata": {
  "kernelspec": {
   "display_name": "Python 3",
   "language": "python",
   "name": "python3"
  },
  "language_info": {
   "codemirror_mode": {
    "name": "ipython",
    "version": 3
   },
   "file_extension": ".py",
   "mimetype": "text/x-python",
   "name": "python",
   "nbconvert_exporter": "python",
   "pygments_lexer": "ipython3",
   "version": "3.6.5"
  }
 },
 "nbformat": 4,
 "nbformat_minor": 2
}
