{
 "cells": [
  {
   "cell_type": "raw",
   "metadata": {},
   "source": [
    "문제 설명\n",
    "최대한 많은 세미나 참가자에게 티셔츠를 나눠주려 합니다. 티셔츠를 나눠주는 조건은 다음과 같습니다.\n",
    "\n",
    "한 사람당 티셔츠를 최대 하나씩 줍니다.\n",
    "모든 참가자는 자신의 상의 크기와 같거나 큰 티셔츠를 받습니다.\n",
    "예를 들어 크기가 [1, 2, 3] 인 티셔츠가 있고, 각각 상의 크기가 [2, 3, 4]인 참가자 셋이 있습니다. 첫 번째 사람에게 두 번째 티셔츠를, 두 번째 사람에게 세 번째 티셔츠를 나눠줄 수 있습니다. 크기가 4인 참가자는 티셔츠를 받지 못합니다. 따라서 최대 2명에게 티셔츠를 줄 수 있습니다.\n",
    "\n",
    "참가자별 상의 크기 people과 세미나 주최 측이 가진 티셔츠 크기 tshirts가 매개변수로 주어질 때, 최대 몇 명에게 티셔츠를 나눠 줄 수 있는지 return 하도록 solution 함수를 작성하세요.\n",
    "\n",
    "제한 사항\n",
    "세미나에 참가한 사람 수는 2명 이상 5,000명 이하입니다.\n",
    "주최 측은 티셔츠를 2벌 이상 5,000벌 이하로 준비했습니다.\n",
    "참가자의 상의 크기와 준비한 티셔츠 크기는 1 이상 1,000 이하인 정수입니다.\n",
    "입출력 예시\n",
    "people\ttshirts\tresult\n",
    "[2, 3]\t[1, 2, 3]\t2\n",
    "[1, 2, 3]\t[1, 1]\t1\n",
    "입출력 예시 설명\n",
    "입출력 예 #1\n",
    "첫 번째 사람에게 두 번째 티셔츠를, 두 번째 사람에게 세 번째 티셔츠를 주면 최대 2명에게 티셔츠를 줄 수 있습니다.\n",
    "\n",
    "입출력 예 #2\n",
    "\n",
    "첫 번째 사람에게만 티셔츠를 줄 수 있습니다."
   ]
  },
  {
   "cell_type": "code",
   "execution_count": null,
   "metadata": {},
   "outputs": [],
   "source": [
    "def solution(people, tshirts):\n",
    "    answer = 0\n",
    "    \n",
    "    for i, j in enumerate(people):\n",
    "        for k,m in enumerate(tshirts):\n",
    "            if j == m:\n",
    "                answer += 1\n",
    "                people[i] = -1\n",
    "                del tshirts[k]\n",
    "                break\n",
    "        \n",
    "    return answer"
   ]
  },
  {
   "cell_type": "code",
   "execution_count": null,
   "metadata": {},
   "outputs": [],
   "source": []
  },
  {
   "cell_type": "code",
   "execution_count": null,
   "metadata": {},
   "outputs": [],
   "source": []
  },
  {
   "cell_type": "raw",
   "metadata": {},
   "source": [
    "문제 설명\n",
    "A 케미컬은 어떤 도시에 공장 N개를 새로 지으려 합니다. 도시 지형은 이차원 평면으로 나타냅니다.\n",
    "\n",
    "공장을 지을 때는 건축법을 따라야 합니다. 건축법은 다음과 같습니다.\n",
    "\n",
    "이미 집이 있는 위치에는 공장을 지을 수 없습니다.\n",
    "공장과 집은 거리가 멀수록 좋습니다.\n",
    "한 위치에는 공장 하나만 지을 수 있습니다.\n",
    "두 지점 사이의 거리는 직선거리로 정의합니다.\n",
    "공장의 x, y 좌표 값은 각각 -100 이상 100 이하인 정수여야 합니다.\n",
    "공장 N개를 지었을 때 집과 공장 사이의 거리 중 가장 작은 값을 구하려 합니다. 단, 숫자가 딱 떨어지지 않을 수 있으니 편의상 거리의 제곱을 구하겠습니다.\n",
    "\n",
    "지어야 하는 공장 수 N, 모든 집의 좌표를 담은 2차원 배열 house가 solution 함수의 매개변수로 주어집니다. 공장 N개를 지었을 때, 집과 공장 사이의 거리 중 가장 작은 값의 제곱을 return 하도록 solution 함수를 완성해주세요. 단, 공장을 지을 수 없다면 -1을 return 해주세요.\n",
    "\n",
    "제한사항\n",
    "N은 1 이상 100 이하인 자연수입니다.\n",
    "house는 가로 길이가 2, 세로 길이는 1 이상 100 이하인 2차원 배열입니다.\n",
    "house 원소는 [집의 x 좌표, 집의 y 좌표] 형식을 따릅니다.\n",
    "집의 x, y 좌표는 -100 이상 100 이하인 정수입니다.\n",
    "입출력 예\n",
    "N\thouse\tresult\n",
    "1\t[[0,0]]\t20000\n",
    "3\t[[0,0],[1,0]]\t19801\n",
    "입출력 예 설명\n",
    "입출력 예 #1\n",
    "\n",
    "(0, 0) 위치에 집이 있고, 공장 한 채를 지어야 합니다. (100, 100) 에 공장을 지으면 집과 공장의 거리가 가장 멉니다.1 \n",
    "따라서 집과 공장 사이의 거리 중 가장 작은 값의 제곱은 1002 + 1002 = 20,000이 됩니다.\n",
    "\n",
    "입출력 예 #2\n",
    "\n",
    "image\n",
    "\n",
    "그림에서 초록색 선은 공장을 지을 수 있는 범위를, 파란 점은 집의 위치를 나타냅니다. (0,0)과 (1,0)에 집이 있으므로 우선 3개의 공장 중 2개는 (-100,100)과 (-100,-100)에2 짓습니다. 세 번째 공장은 빨간 점선으로 된 점 중 아무 데나 짓습니다. 이때, 집과 공장 사이의 거리 중 가장 작은 값의 제곱은 1002 + 992 = 19801입니다3.\n",
    "\n",
    "물론 (-100, -100), (-100, 100), (100, -100) 에 공장을 지어도 됩니다. ↩\n",
    "\n",
    "그림에서 빨간색으로 칠해진 점입니다. ↩\n",
    "\n",
    "거리의 제곱이 19801보다 커지도록 공장 3개를 짓는 방법은 없습니다. ↩"
   ]
  },
  {
   "cell_type": "code",
   "execution_count": null,
   "metadata": {},
   "outputs": [],
   "source": []
  },
  {
   "cell_type": "raw",
   "metadata": {},
   "source": [
    "문제 설명\n",
    "XX 게임의 유저들이 보스 몬스터를 사냥하려고 팀을 만들었습니다. 그리고 팀에 속한 캐릭터에 아이템을 사용해 공격력을 높이려 합니다.\n",
    "\n",
    "이 게임의 아이템은 캐릭터의 공격력은 높이고 체력을 낮춥니다. 그래서 아이템을 적절히 사용해 팀의 공격력을 최대한 끌어올리려 합니다. 캐릭터별로 아이템을 사용할지 말지는 자유지만, 아이템을 사용한 캐릭터는 체력이 반드시 100 이상 남아야 합니다. 또, 한 캐릭터에 아이템 하나씩만 사용할 수 있으며, 사용한 아이템은 사라집니다.\n",
    "\n",
    "예를 들어 캐릭터의 체력이 [200, 120, 150]이고 아이템의 효과는 다음과 같습니다.\n",
    "\n",
    "높여줄 공격치\t낮추는 체력\n",
    "30\t100\n",
    "500\t30\n",
    "100\t400\n",
    "이때 팀의 공격력을 최대로 올리려면 첫 번째 캐릭터에 첫 번째 아이템을, 세 번째 캐릭터에 두 번째 아이템을 사용하면 됩니다.\n",
    "\n",
    "캐릭터들의 체력을 담은 배열 healths와 아이템별 효과를 담은 이차원 배열 items가 solution 함수의 매개변수로 주어질 때, 팀의 공격력을 최고로 끌어올리려면 어떤 아이템을 사용해야 하는지 return 하도록 solution 함수를 완성해주세요.\n",
    "\n",
    "제한 조건\n",
    "healths의 길이는 1 이상 10,000 이하입니다.\n",
    "healths의 원소(캐릭터의 체력)는 1 이상 1,000,000 이하인 자연수입니다.\n",
    "items의 길이는 1 이상 5,000 이하입니다.\n",
    "items에는 아이템이 [올려줄 공격력, 낮출 체력]이 번호 순서대로 들어있습니다.\n",
    "아이템 번호는 1번 부터 시작합니다.\n",
    "items[i]에는 i + 1번 아이템이 [올려줄 공격력, 낮출 체력]이 들어있습니다.\n",
    "아이템이 올리는 공격력은 1 이상 500,000 이하인 자연수입니다.\n",
    "아이템이 내리는 체력은 1 이상 500,000 이하인 자연수입니다.\n",
    "아이템 번호는 오름차순으로 정렬해 return 해주세요.\n",
    "올려주는 공격력이 같은 아이템은 없습니다.\n",
    "아이템을 사용하는 방법이 여러 가지라면, 그러한 방법 중 아무거나 하나를 return 해주세요. 단, 아이템 번호는 오름차순으로 정렬되어 있어야 합니다.\n",
    "입출력 예\n",
    "healths\titems\treturn\n",
    "[200,120,150]\t[[30,100],[500,30],[100,400]]\t[1,2]\n",
    "[300,200,500]\t[[1000, 600], [400, 500], [300, 100]]\t[3]\n",
    "입출력 예 #1\n",
    "문제의 예시와 같습니다.\n",
    "\n",
    "입출력 예 #2\n",
    "\n",
    "첫 번째, 두 번째 아이템을 사용하면 캐릭터의 체력이 100 이하가 됩니다. 따라서 세 번째 아이템만 사용할 수 있습니다."
   ]
  },
  {
   "cell_type": "code",
   "execution_count": null,
   "metadata": {},
   "outputs": [],
   "source": [
    "def solution(healths, items):\n",
    "    answer = []\n",
    "    attack = []\n",
    "    \n",
    "    for i in items:\n",
    "        i.append(items.index(i)+1)\n",
    "    \n",
    "    for i,j in enumerate(items):\n",
    "        for m,n in enumerate(healths):\n",
    "            attack.append([j[2],m,j[0],n-j[1]])\n",
    "            attack.sort\n",
    "        \n",
    "    attack = sorted(attack, key = lambda x: (x[2], x[3]))\n",
    "        \n",
    "    for i,j in enumerate(attack):\n",
    "        if j[3]>=100:\n",
    "            answer.append(j[0])\n",
    "            for n,m in enumerate(attack):\n",
    "                if m[0] == j[0] or m[1] == j[1]:\n",
    "                    m[3] = 0\n",
    "    \n",
    "    answer.sort()\n",
    "    return answer"
   ]
  },
  {
   "cell_type": "code",
   "execution_count": null,
   "metadata": {},
   "outputs": [],
   "source": []
  },
  {
   "cell_type": "raw",
   "metadata": {},
   "source": [
    "문제 설명\n",
    "1부터 N까지 번호가 하나씩 붙은 디렉토리 N개가 트리(tree) 형태를 이루고 있습니다. 디렉토리 간에 이동할 때는 현재 디렉토리와 직접 연결된 하위 디렉토리로 이동하거나, 혹은 현재 디렉토리의 상위 디렉토리로 이동할 수 있습니다.\n",
    "\n",
    "다음은 디렉토리 구조를 보인 예시입니다.\n",
    "\n",
    "direct_1.png\n",
    "\n",
    "예를 들어 위 예시에서 ②번 디렉토리의 하위 디렉토리는 ④, ⑤번 디렉토리 이며, 상위 디렉토리는 ①번 디렉토리입니다. 이때, ④번 디렉토리에서 출발해 ③번 디렉토리로 이동하려면 다음과 같이 이동하면 됩니다.\n",
    "\n",
    "④번 디렉토리에서 출발 → 상위 디렉토리(②번)로 이동 → 상위 디렉토리(①번)로 이동 → 하위 디렉토리(③번)로 이동\n",
    "따라서, 출발, 도착 디렉토리인 ③, ④번 디렉토리를 포함하여 총 디렉토리 4개를 방문합니다.\n",
    "\n",
    "또 다른 예로 ⑤번 디렉토리에서 ①번 디렉토리로 이동하려면 상위 디렉토리로 두 번만 이동하면 되며, 총 디렉토리 3개를 방문합니다.\n",
    "\n",
    "디렉토리 개수 N, 상위 - 하위 디렉토리 관계를 나타내는 배열 directory와 [출발 디렉토리 번호, 도착 디렉토리 번호] 여럿을 원소로 담은 query가 solution 함수의 매개변수로 주어집니다. 각 [출발 디렉토리 번호, 도착 디렉토리 번호]에 대해 방문하는 디렉토리 수를 순서대로 담은 배열을 return 하도록 solution 함수를 완성해 주세요.\n",
    "\n",
    "제한 사항\n",
    "디렉토리 개수 N은 3 이상 100,000 이하인 자연수입니다.\n",
    "directory는 디렉토리 관계를 나타내는 배열이며 길이는 N - 1입니다.\n",
    "directory에 들어있는 숫자는 1 이상 N 이하인 자연수입니다.\n",
    "directory의 원소는 [상위 디렉토리 번호, 하위 디렉토리 번호] 형식입니다.\n",
    "예를 들어 [1, 2]는 2번 디렉토리가 1번 디렉토리의 하위 디렉토리 라는 의미입니다.\n",
    "디렉토리의 관계가 중복해서 주어지지 않습니다.\n",
    "올바른 디렉토리 관계만 입력으로 주어집니다.\n",
    "입력으로 주어지는 디렉토리는 하나의 트리를 구성하며, 최상위 디렉토리도 정확히 1개입니다.\n",
    "최상위 디렉토리를 제외한 모든 디렉토리의 상위 디렉토리는 정확히 1개입니다.\n",
    "query는 길이가 1 이상 100,000 이하인 배열입니다.\n",
    "query의 원소는 [출발 디렉토리 번호, 도착 디렉토리 번호] 형식입니다.\n",
    "입출력 예시\n",
    "N\tdirectory\tquery\tresult\n",
    "5\t[ [1, 2], [1, 3], [2, 4], [2, 5] ]\t[ [1, 5], [2, 5], [3, 5], [4, 5] ]\t[3, 2, 4, 3]\n",
    "4\t[ [3, 2], [3, 1], [3, 4]]\t[ [4, 2],[3, 1], [2, 2] ]\t[3, 2, 1]\n",
    "입출력 예시 설명\n",
    "입출력 예 #1\n",
    "\n",
    "direct_1.png\n",
    "\n",
    "①번 디렉토리에서 ⑤번 디렉토리로 가려면 ① → ② → ⑤로 이동하면 되며 디렉토리 3개를 방문합니다.\n",
    "②번 디렉토리에서 ⑤번 디렉토리로 가려면 ② → ⑤로 이동하면 되며 디렉토리 2개를 방문합니다.\n",
    "③번 디렉토리에서 ⑤번 디렉토리로 가려면 ③ → ① → ② → ⑤로 이동하면 되며 디렉토리 4개를 방문합니다.\n",
    "④번 디렉토리에서 ⑤번 디렉토리로 가려면 ④ → ② → ⑤로 이동하면 되며 디렉토리 3개를 방문합니다.\n",
    "따라서 [3, 2, 4, 3]을 return 하면 됩니다.\n",
    "\n",
    "입출력 예 #2\n",
    "\n",
    "direct_3.png\n",
    "\n",
    "④번 디렉토리에서 ②번 디렉토리로 가려면 ④ → ③ → ②로 이동하면 되며 디렉토리 3개를 방문합니다.\n",
    "③번 디렉토리에서 ①번 디렉토리로 가려면 ③ → ①로 이동하면 되며 디렉토리 2개를 방문합니다.\n",
    "②번 디렉토리에서 ②번 디렉토리로는 이동하지 않아도 되므로 디렉토리 1개를 방문합니다.\n",
    "따라서 [3, 2, 1]을 return 하면 됩니다."
   ]
  },
  {
   "cell_type": "code",
   "execution_count": 5,
   "metadata": {},
   "outputs": [],
   "source": [
    "def solution(N, directory, query):\n",
    "    answer = []\n",
    "    tree = []\n",
    "    \n",
    "    for i in range(N):\n",
    "        tree.append([[], []])\n",
    "    \n",
    "    for i in directory:\n",
    "        tree[i[0]-1][1].append(i[1]-1)\n",
    "        tree[i[1]-1][0].append(i[0]-1)\n",
    "\n",
    "    for k in query:\n",
    "        k = (k[0]-1, k[1]-1)\n",
    "        number = -1\n",
    "        search = []\n",
    "        \n",
    "        if k[0] == k[1]:\n",
    "            answer.append(1)\n",
    "            continue\n",
    "        \n",
    "        for i in tree[k[0]][0] + tree[k[0]][1]:\n",
    "            if i == k[1]:\n",
    "                number = 2\n",
    "                break\n",
    "            else :\n",
    "                search.append([i])\n",
    "        else :\n",
    "            if number != -1:\n",
    "                answer.append(number)\n",
    "                continue\n",
    "\n",
    "        while True:\n",
    "            for route in search.copy():\n",
    "                for i in tree[route[-1]][0] + tree[route[-1]][1]:\n",
    "                    if i != k[1]:\n",
    "                        U = route.copy()\n",
    "                        U.append(i)\n",
    "                        search.append(U)\n",
    "                    else :\n",
    "                        number = route.__len__() + 2\n",
    "                        break\n",
    "                else :\n",
    "                    search.remove(route)\n",
    "\n",
    "            else :\n",
    "                if number != -1:\n",
    "                    answer.append(number)\n",
    "                    break\n",
    "    \n",
    "    return answer"
   ]
  },
  {
   "cell_type": "code",
   "execution_count": 6,
   "metadata": {},
   "outputs": [
    {
     "data": {
      "text/plain": [
       "[3, 2, 4, 3]"
      ]
     },
     "execution_count": 6,
     "metadata": {},
     "output_type": "execute_result"
    }
   ],
   "source": [
    "solution(N = 5,directory = [ [1, 2], [1, 3], [2, 4], [2, 5] ],query = [ [1, 5], [2, 5], [3, 5], [4, 5] ])"
   ]
  },
  {
   "cell_type": "code",
   "execution_count": 344,
   "metadata": {},
   "outputs": [],
   "source": [
    "def solution(N, directory, query):\n",
    "    answer = []\n",
    "    \n",
    "    tree = directory\n",
    "    \n",
    "    for i in directory.copy():\n",
    "        directory = directory + [i[::-1]]\n",
    "\n",
    "    for q in query:\n",
    "        number = 2\n",
    "        tree = directory.copy()\n",
    "        while(True):\n",
    "            if q[0]==q[1]:\n",
    "                answer.append(1)\n",
    "                break\n",
    "            elif q in tree:\n",
    "                answer.append(number)\n",
    "                break\n",
    "            else:\n",
    "                for i in tree.copy():\n",
    "                    for j in tree.copy():\n",
    "                        if i[1]==j[0] and i[0]!=j[1]:\n",
    "                            c=[i[0]]+[j[1]]\n",
    "                            if c not in tree.copy():\n",
    "                                tree.append(c)\n",
    "                else:\n",
    "                    print(tree)\n",
    "                    number += 1\n",
    "                    \n",
    "            \n",
    "    return answer"
   ]
  },
  {
   "cell_type": "code",
   "execution_count": 345,
   "metadata": {},
   "outputs": [
    {
     "name": "stdout",
     "output_type": "stream",
     "text": [
      "[[1, 2], [1, 3], [2, 4], [2, 5], [2, 1], [3, 1], [4, 2], [5, 2], [1, 4], [1, 5], [2, 3], [3, 2], [3, 4], [3, 5], [4, 5], [4, 1], [4, 3], [5, 4], [5, 1], [5, 3]]\n",
      "[[1, 2], [1, 3], [2, 4], [2, 5], [2, 1], [3, 1], [4, 2], [5, 2], [1, 4], [1, 5], [2, 3], [3, 2], [3, 4], [3, 5], [4, 5], [4, 1], [4, 3], [5, 4], [5, 1], [5, 3]]\n",
      "[[1, 2], [1, 3], [2, 4], [2, 5], [2, 1], [3, 1], [4, 2], [5, 2], [1, 4], [1, 5], [2, 3], [3, 2], [3, 4], [3, 5], [4, 5], [4, 1], [4, 3], [5, 4], [5, 1], [5, 3]]\n"
     ]
    },
    {
     "data": {
      "text/plain": [
       "[3, 2, 3, 3]"
      ]
     },
     "execution_count": 345,
     "metadata": {},
     "output_type": "execute_result"
    }
   ],
   "source": [
    "solution(N = 5,directory = [ [1, 2], [1, 3], [2, 4], [2, 5] ],query = [ [1, 5], [2, 5], [3, 5], [4, 5]])"
   ]
  },
  {
   "cell_type": "code",
   "execution_count": 325,
   "metadata": {},
   "outputs": [
    {
     "name": "stdout",
     "output_type": "stream",
     "text": [
      "[[3, 2], [3, 1], [3, 4], [2, 3], [1, 3], [4, 3], [2, 1], [1, 2], [4, 2]]\n"
     ]
    },
    {
     "data": {
      "text/plain": [
       "[3, 2, 1]"
      ]
     },
     "execution_count": 325,
     "metadata": {},
     "output_type": "execute_result"
    }
   ],
   "source": [
    "solution(N = 4,directory = [ [3, 2], [3, 1], [3, 4]],query = [ [4, 2],[3, 1], [2, 2] ])"
   ]
  },
  {
   "cell_type": "code",
   "execution_count": null,
   "metadata": {},
   "outputs": [],
   "source": []
  },
  {
   "cell_type": "code",
   "execution_count": null,
   "metadata": {},
   "outputs": [],
   "source": []
  },
  {
   "cell_type": "code",
   "execution_count": null,
   "metadata": {},
   "outputs": [],
   "source": []
  },
  {
   "cell_type": "code",
   "execution_count": null,
   "metadata": {},
   "outputs": [],
   "source": []
  },
  {
   "cell_type": "code",
   "execution_count": null,
   "metadata": {},
   "outputs": [],
   "source": []
  },
  {
   "cell_type": "code",
   "execution_count": 123,
   "metadata": {},
   "outputs": [],
   "source": [
    "a= [[2, 1] ,[1,1]]\n",
    "b=[1, 3]"
   ]
  },
  {
   "cell_type": "code",
   "execution_count": 124,
   "metadata": {},
   "outputs": [
    {
     "data": {
      "text/plain": [
       "True"
      ]
     },
     "execution_count": 124,
     "metadata": {},
     "output_type": "execute_result"
    }
   ],
   "source": [
    "[1,1] in a"
   ]
  },
  {
   "cell_type": "code",
   "execution_count": 110,
   "metadata": {},
   "outputs": [
    {
     "data": {
      "text/plain": [
       "[1, 1]"
      ]
     },
     "execution_count": 110,
     "metadata": {},
     "output_type": "execute_result"
    }
   ],
   "source": [
    "[a[1]]+[b[0]]"
   ]
  },
  {
   "cell_type": "code",
   "execution_count": 89,
   "metadata": {},
   "outputs": [],
   "source": [
    "c=[a[0][0]]+[b[1]]"
   ]
  },
  {
   "cell_type": "code",
   "execution_count": 90,
   "metadata": {},
   "outputs": [
    {
     "data": {
      "text/plain": [
       "[1, 3]"
      ]
     },
     "execution_count": 90,
     "metadata": {},
     "output_type": "execute_result"
    }
   ],
   "source": [
    "c"
   ]
  },
  {
   "cell_type": "code",
   "execution_count": 86,
   "metadata": {},
   "outputs": [
    {
     "data": {
      "text/plain": [
       "[1, 3]"
      ]
     },
     "execution_count": 86,
     "metadata": {},
     "output_type": "execute_result"
    }
   ],
   "source": [
    "[c[0]]+[c[3]]"
   ]
  },
  {
   "cell_type": "code",
   "execution_count": null,
   "metadata": {},
   "outputs": [],
   "source": []
  }
 ],
 "metadata": {
  "kernelspec": {
   "display_name": "Python 3",
   "language": "python",
   "name": "python3"
  },
  "language_info": {
   "codemirror_mode": {
    "name": "ipython",
    "version": 3
   },
   "file_extension": ".py",
   "mimetype": "text/x-python",
   "name": "python",
   "nbconvert_exporter": "python",
   "pygments_lexer": "ipython3",
   "version": "3.6.5"
  }
 },
 "nbformat": 4,
 "nbformat_minor": 2
}
